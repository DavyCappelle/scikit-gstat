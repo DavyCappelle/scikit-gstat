{
 "cells": [
  {
   "cell_type": "markdown",
   "metadata": {},
   "source": [
    "# Benchmarks\n",
    "\n",
    "This documents collects some benchmarks of code improvements."
   ]
  },
  {
   "cell_type": "code",
   "execution_count": 1,
   "metadata": {},
   "outputs": [],
   "source": [
    "import skgstat as skg\n",
    "import numpy as np"
   ]
  },
  {
   "cell_type": "code",
   "execution_count": 2,
   "metadata": {},
   "outputs": [
    {
     "data": {
      "text/plain": [
       "(100, 100)"
      ]
     },
     "execution_count": 2,
     "metadata": {},
     "output_type": "execute_result"
    }
   ],
   "source": [
    "an_field = np.loadtxt('./docs/data/aniso_x2.txt')\n",
    "\n",
    "np.random.seed(42)\n",
    "c = np.random.randint(an_field.shape[0], size=(3000, 2))\n",
    "v = np.array([an_field[p[0], p[1]] for p in c])\n",
    "\n",
    "an_field.shape"
   ]
  },
  {
   "cell_type": "markdown",
   "metadata": {},
   "source": [
    "## `Variogram._experimental`\n",
    "\n",
    "removing the loop in `0.3.6`"
   ]
  },
  {
   "cell_type": "markdown",
   "metadata": {},
   "source": [
    "### Prepare Data"
   ]
  },
  {
   "cell_type": "code",
   "execution_count": 3,
   "metadata": {},
   "outputs": [
    {
     "name": "stdout",
     "output_type": "stream",
     "text": [
      "spherical Variogram\n",
      "-------------------\n",
      "Estimator:         matheron\n",
      "        \r",
      "Effective Range:   38.82\n",
      "        \r",
      "Sill:              0.79\n",
      "        \r",
      "Nugget:            0.00\n",
      "        \n",
      "spherical Variogram\n",
      "-------------------\n",
      "Estimator:         matheron\n",
      "        \r",
      "Effective Range:   60.13\n",
      "        \r",
      "Sill:              1.15\n",
      "        \r",
      "Nugget:            0.00\n",
      "        \n"
     ]
    }
   ],
   "source": [
    "Vsm = skg.Variogram(c[:100,:], v[:100], n_lags=30)\n",
    "Vlg = skg.Variogram(c, v, n_lags=30)\n",
    "print(Vsm)\n",
    "print(Vlg)"
   ]
  },
  {
   "cell_type": "markdown",
   "metadata": {},
   "source": [
    "### define the old and new function"
   ]
  },
  {
   "cell_type": "code",
   "execution_count": 4,
   "metadata": {},
   "outputs": [],
   "source": [
    "from joblib import Parallel, delayed\n",
    "\n",
    "def _new(self):\n",
    "\n",
    "    if self._estimator.__name__ == 'entropy':\n",
    "        bins = np.linspace(\n",
    "            np.min(self.distance),\n",
    "            np.max(self.distance),\n",
    "            50 \n",
    "        )\n",
    "        def mapper(lag_values):\n",
    "            return self._estimator(lag_values, bins=bins)\n",
    "    else:\n",
    "        mapper =  self._estimator\n",
    "\n",
    "    return np.fromiter(map(mapper, self.lag_classes()), dtype=np.float)\n",
    "\n",
    "def _old(self):\n",
    "    y = np.zeros(len(self.bins), dtype=np.float64)\n",
    "\n",
    "    if self._estimator.__name__ == 'entropy':\n",
    "        bins = np.linspace(\n",
    "            np.min(self.distance),\n",
    "            np.max(self.distance),\n",
    "            50\n",
    "        )\n",
    "        # apply\n",
    "        for i, lag_values in enumerate(self.lag_classes()):\n",
    "            y[i] = self._estimator(lag_values, bins=bins)\n",
    "\n",
    "    # default\n",
    "    else:\n",
    "        for i, lag_values in enumerate(self.lag_classes()):\n",
    "            y[i] = self._estimator(lag_values)\n",
    "\n",
    "    # apply\n",
    "    return y.copy()\n",
    "\n",
    "def _parallel(self):\n",
    "    if self._estimator.__name__ == 'entropy':\n",
    "        bins = np.linspace(\n",
    "            np.min(self.distance),\n",
    "            np.max(self.distance),\n",
    "            50 \n",
    "        )\n",
    "        model = lambda lags: self._estimator(lags, bins=bis)\n",
    "    else:\n",
    "        model = self._estimator\n",
    "    \n",
    "    return Parallel(n_jobs=8)(delayed(self._estimator)(lags) for lags in self.lag_classes())"
   ]
  },
  {
   "cell_type": "markdown",
   "metadata": {},
   "source": [
    "### Results"
   ]
  },
  {
   "cell_type": "code",
   "execution_count": 5,
   "metadata": {},
   "outputs": [],
   "source": [
    "Vsm.set_estimator('cressie')\n",
    "Vlg.set_estimator('cressie')"
   ]
  },
  {
   "cell_type": "code",
   "execution_count": 6,
   "metadata": {},
   "outputs": [
    {
     "name": "stdout",
     "output_type": "stream",
     "text": [
      "248 µs ± 8.05 µs per loop (mean ± std. dev. of 7 runs, 1000 loops each)\n"
     ]
    }
   ],
   "source": [
    "%timeit _old(Vsm)"
   ]
  },
  {
   "cell_type": "code",
   "execution_count": 7,
   "metadata": {},
   "outputs": [
    {
     "name": "stdout",
     "output_type": "stream",
     "text": [
      "238 µs ± 1.37 µs per loop (mean ± std. dev. of 7 runs, 1000 loops each)\n"
     ]
    }
   ],
   "source": [
    "%timeit _new(Vsm)"
   ]
  },
  {
   "cell_type": "code",
   "execution_count": 8,
   "metadata": {},
   "outputs": [
    {
     "name": "stdout",
     "output_type": "stream",
     "text": [
      "17.4 ms ± 3.82 ms per loop (mean ± std. dev. of 7 runs, 1 loop each)\n"
     ]
    }
   ],
   "source": [
    "%timeit _parallel(Vsm)"
   ]
  },
  {
   "cell_type": "code",
   "execution_count": 9,
   "metadata": {},
   "outputs": [
    {
     "name": "stdout",
     "output_type": "stream",
     "text": [
      "205 ms ± 1.04 ms per loop (mean ± std. dev. of 7 runs, 1 loop each)\n"
     ]
    }
   ],
   "source": [
    "%timeit _old(Vlg)"
   ]
  },
  {
   "cell_type": "code",
   "execution_count": 10,
   "metadata": {},
   "outputs": [
    {
     "name": "stdout",
     "output_type": "stream",
     "text": [
      "199 ms ± 1.28 ms per loop (mean ± std. dev. of 7 runs, 1 loop each)\n"
     ]
    }
   ],
   "source": [
    "%timeit _new(Vlg)"
   ]
  },
  {
   "cell_type": "code",
   "execution_count": 11,
   "metadata": {},
   "outputs": [
    {
     "name": "stdout",
     "output_type": "stream",
     "text": [
      "385 ms ± 5.03 ms per loop (mean ± std. dev. of 7 runs, 1 loop each)\n"
     ]
    }
   ],
   "source": [
    "%timeit _parallel(Vlg)"
   ]
  },
  {
   "cell_type": "markdown",
   "metadata": {},
   "source": [
    "It's not really much, but the code looks much better. Parallelization doesn't effect anything here."
   ]
  }
 ],
 "metadata": {
  "kernelspec": {
   "display_name": "Python 3",
   "language": "python",
   "name": "python3"
  },
  "language_info": {
   "codemirror_mode": {
    "name": "ipython",
    "version": 3
   },
   "file_extension": ".py",
   "mimetype": "text/x-python",
   "name": "python",
   "nbconvert_exporter": "python",
   "pygments_lexer": "ipython3",
   "version": "3.8.3"
  }
 },
 "nbformat": 4,
 "nbformat_minor": 4
}
